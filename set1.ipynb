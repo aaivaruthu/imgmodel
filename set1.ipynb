{
 "cells": [
  {
   "cell_type": "code",
   "execution_count": 3,
   "metadata": {},
   "outputs": [
    {
     "name": "stdout",
     "output_type": "stream",
     "text": [
      "[[[ 19  45  66]\n",
      "  [ 22  48  69]\n",
      "  [ 23  52  72]\n",
      "  ...\n",
      "  [ 74  30   1]\n",
      "  [ 76  32   1]\n",
      "  [ 78  34   3]]\n",
      "\n",
      " [[ 20  46  68]\n",
      "  [ 23  49  71]\n",
      "  [ 23  52  73]\n",
      "  ...\n",
      "  [ 72  28   3]\n",
      "  [ 74  30   1]\n",
      "  [ 76  32   1]]\n",
      "\n",
      " [[ 20  46  68]\n",
      "  [ 22  48  70]\n",
      "  [ 24  53  74]\n",
      "  ...\n",
      "  [ 71  27   4]\n",
      "  [ 72  28   3]\n",
      "  [ 74  30   1]]\n",
      "\n",
      " ...\n",
      "\n",
      " [[165 150 126]\n",
      "  [163 148 124]\n",
      "  [161 146 124]\n",
      "  ...\n",
      "  [108  96  70]\n",
      "  [111  99  73]\n",
      "  [110  98  72]]\n",
      "\n",
      " [[157 142 118]\n",
      "  [155 140 116]\n",
      "  [153 138 116]\n",
      "  ...\n",
      "  [111  99  73]\n",
      "  [113 101  75]\n",
      "  [111  99  73]]\n",
      "\n",
      " [[146 131 107]\n",
      "  [143 128 104]\n",
      "  [141 126 104]\n",
      "  ...\n",
      "  [113 101  75]\n",
      "  [116 104  78]\n",
      "  [112 100  74]]]\n"
     ]
    }
   ],
   "source": [
    "import cv2\n",
    "import numpy as np\n",
    "\n",
    "# Load the two images\n",
    "image1 = cv2.imread('imag1.png')\n",
    "image2 = cv2.imread('imag2.png')\n",
    "\n",
    "# Ensure both images are the same size\n",
    "if image1.shape != image2.shape:\n",
    "    print(\"Error: Images must have the same dimensions.\")\n",
    "else:\n",
    "    # Compute the absolute difference between the two images\n",
    "    output_image = cv2.absdiff(image1, image2)\n",
    "    print(output_image)\n",
    "\n",
    "    # Display the output image\n",
    "    cv2.imshow(\"Absolute Difference\", output_image)\n",
    "\n",
    "    # Wait until a key is pressed and close the windows\n",
    "    cv2.waitKey(0)\n",
    "    cv2.destroyAllWindows()\n"
   ]
  },
  {
   "cell_type": "code",
   "execution_count": 4,
   "metadata": {},
   "outputs": [
    {
     "name": "stdout",
     "output_type": "stream",
     "text": [
      "[0.58752516 0.00343832 0.         ... 0.         0.01244641 0.14471686]\n"
     ]
    }
   ],
   "source": [
    "import cv2\n",
    "import numpy as np\n",
    "from skimage.feature import hog\n",
    "from skimage import exposure\n",
    "\n",
    "# Load and preprocess the image to 64x128\n",
    "image = cv2.imread('imag1.png', cv2.IMREAD_GRAYSCALE)\n",
    "image = cv2.resize(image, (64, 128))\n",
    "\n",
    "# Step 2: Calculate Gradients (x and y directions)\n",
    "gradient_x = cv2.Sobel(image, cv2.CV_64F, 1, 0, ksize=1)\n",
    "gradient_y = cv2.Sobel(image, cv2.CV_64F, 0, 1, ksize=1)\n",
    "\n",
    "# Step 3: Calculate the Magnitude and Orientation\n",
    "magnitude = np.sqrt(gradient_x**2 + gradient_y**2)\n",
    "orientation = np.arctan2(gradient_y, gradient_x) * (180 / np.pi) % 180  # Converting to degrees in [0, 180]\n",
    "\n",
    "# Step 4 & 5: Calculate Histogram of Gradients in 8×8 cells and normalize in 16×16 cells\n",
    "# Define HOG parameters\n",
    "cell_size = (8, 8)    # Each cell is 8x8 pixels\n",
    "block_size = (2, 2)   # Each block contains 2x2 cells (16x16 pixels)\n",
    "nbins = 9             # Number of orientation bins\n",
    "\n",
    "# Compute HOG features\n",
    "hog_features, hog_image = hog(image,\n",
    "                              orientations=nbins,\n",
    "                              pixels_per_cell=cell_size,\n",
    "                              cells_per_block=block_size,\n",
    "                              block_norm='L2-Hys',\n",
    "                              visualize=True,\n",
    "                              transform_sqrt=True)\n",
    "\n",
    "print(hog_features)\n",
    "\n",
    "# Step 6: Display HOG features for the complete image\n",
    "hog_image_rescaled = exposure.rescale_intensity(hog_image, in_range=(0, 10))\n",
    "\n",
    "# Show original and HOG images\n",
    "cv2.imshow(\"Original Image\", image)\n",
    "cv2.imshow(\"HOG Features\", hog_image_rescaled)\n",
    "cv2.waitKey(0)\n",
    "cv2.destroyAllWindows()\n"
   ]
  }
 ],
 "metadata": {
  "kernelspec": {
   "display_name": "Python 3",
   "language": "python",
   "name": "python3"
  },
  "language_info": {
   "codemirror_mode": {
    "name": "ipython",
    "version": 3
   },
   "file_extension": ".py",
   "mimetype": "text/x-python",
   "name": "python",
   "nbconvert_exporter": "python",
   "pygments_lexer": "ipython3",
   "version": "3.11.9"
  }
 },
 "nbformat": 4,
 "nbformat_minor": 2
}
